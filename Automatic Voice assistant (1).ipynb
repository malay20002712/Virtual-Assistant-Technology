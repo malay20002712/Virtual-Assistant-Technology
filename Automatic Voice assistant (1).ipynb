{
 "cells": [
  {
   "cell_type": "code",
   "execution_count": 1,
   "id": "5822088e",
   "metadata": {},
   "outputs": [
    {
     "name": "stdout",
     "output_type": "stream",
     "text": [
      "Note: you may need to restart the kernel to use updated packages.\n"
     ]
    },
    {
     "name": "stderr",
     "output_type": "stream",
     "text": [
      "ERROR: Could not find a version that satisfies the requirement os\n",
      "ERROR: No matching distribution found for os\n"
     ]
    }
   ],
   "source": [
    "pip install os"
   ]
  },
  {
   "cell_type": "code",
   "execution_count": 2,
   "id": "95a16ab7",
   "metadata": {},
   "outputs": [],
   "source": [
    "import pyttsx3\n",
    "import speech_recognition as sr\n",
    "import wikipedia as wk\n",
    "import webbrowser as wb\n",
    "import os"
   ]
  },
  {
   "cell_type": "code",
   "execution_count": 3,
   "id": "7bad365a",
   "metadata": {},
   "outputs": [],
   "source": [
    "engine = pyttsx3.init ('sapi5')"
   ]
  },
  {
   "cell_type": "code",
   "execution_count": 4,
   "id": "409be01e",
   "metadata": {},
   "outputs": [],
   "source": [
    "voices = engine.getProperty ('voices')"
   ]
  },
  {
   "cell_type": "code",
   "execution_count": 5,
   "id": "9ab729f5",
   "metadata": {},
   "outputs": [],
   "source": [
    "# print (voices[0].id)\n",
    "# engine.setProperty ('voices', )"
   ]
  },
  {
   "cell_type": "code",
   "execution_count": 39,
   "id": "d97a4076",
   "metadata": {},
   "outputs": [],
   "source": [
    "engine.setProperty ('voice', voices [0].id)"
   ]
  },
  {
   "cell_type": "code",
   "execution_count": 7,
   "id": "703592d5",
   "metadata": {},
   "outputs": [],
   "source": [
    "def speak (audio):\n",
    "    engine.say (audio)\n",
    "    engine.runAndWait ()"
   ]
  },
  {
   "cell_type": "code",
   "execution_count": 8,
   "id": "f8a5640f",
   "metadata": {},
   "outputs": [],
   "source": [
    "import datetime\n",
    "def wishMe ():\n",
    "    wishingString = ''\n",
    "    hour = int (datetime.datetime.now ().hour)\n",
    "#     print (hour)\n",
    "    if (hour >= 4 and hour < 12):\n",
    "        wishString = 'Good Morning'\n",
    "    elif (hour == 12):\n",
    "        wishString = 'Good Noon'\n",
    "    elif hour > 12 and hour < 16:\n",
    "        wishString = 'Good Afternoon'\n",
    "    elif hour >= 16 and hour < 21:\n",
    "        wishString = 'Good Evening'\n",
    "    else: wishString = 'Good Night'\n",
    "    if wishString == 'Good Night':\n",
    "        string = f'Hey Malay how may I help you'\n",
    "        speak (string)\n",
    "    string = f'Hello Malay {wishString}, How May I Help you'\n",
    "    speak (string)"
   ]
  },
  {
   "cell_type": "code",
   "execution_count": 10,
   "id": "3537598f",
   "metadata": {},
   "outputs": [],
   "source": [
    "wishMe ()"
   ]
  },
  {
   "cell_type": "code",
   "execution_count": 11,
   "id": "7faccc73",
   "metadata": {},
   "outputs": [],
   "source": [
    "# x = 0\n",
    "# while x < 5:\n",
    "#     try :\n",
    "# wishMe ()\n",
    "# takeData ('bear')\n",
    "#         if command == 'stop':\n",
    "#             break\n",
    "#     except Exception as e:\n",
    "#         print ('You stopped me')\n",
    "#     x += 1\n",
    "def countNumbers ():\n",
    "    x = input ('enter the number : ')\n",
    "    countNumbers = {}\n",
    "    for i in x:\n",
    "        if i not in countNumbers:\n",
    "            countNumbers [i] = 1\n",
    "        else:\n",
    "            n = countNumbers [i] + 1\n",
    "            countNumbers [i] = n\n",
    "    string = ''\n",
    "    countData = {\n",
    "        1 : 'one',\n",
    "        2 : 'two',\n",
    "        3 : 'three',\n",
    "        4 : 'four',\n",
    "        5 : 'five',\n",
    "        6 : 'six',\n",
    "        7 : 'seven',\n",
    "        8 : 'eight',\n",
    "        9 : 'nine',\n",
    "        0 : 'zero'\n",
    "    }\n",
    "\n",
    "    for key, value in countNumbers.items ():\n",
    "        string = string + countData [value] + ' '\n",
    "        if value > 1:\n",
    "            string = string + countData [int (key)] + 's '\n",
    "        else:\n",
    "            string = string + countData [int (key)] + ' '\n",
    "\n",
    "\n",
    "\n",
    "    speak (string)\n",
    "# results = wk.summary ('india', sentences = 2)\n",
    "# print (results)\n",
    "# speak (results)\n"
   ]
  },
  {
   "cell_type": "code",
   "execution_count": 12,
   "id": "553dedb1",
   "metadata": {},
   "outputs": [
    {
     "name": "stdout",
     "output_type": "stream",
     "text": [
      "Requirement already satisfied: geocoder in c:\\users\\dell\\anaconda3\\lib\\site-packages (1.38.1)\n",
      "Requirement already satisfied: six in c:\\users\\dell\\anaconda3\\lib\\site-packages (from geocoder) (1.15.0)\n",
      "Requirement already satisfied: future in c:\\users\\dell\\anaconda3\\lib\\site-packages (from geocoder) (0.18.2)\n",
      "Requirement already satisfied: click in c:\\users\\dell\\anaconda3\\lib\\site-packages (from geocoder) (7.1.2)\n",
      "Requirement already satisfied: requests in c:\\users\\dell\\anaconda3\\lib\\site-packages (from geocoder) (2.25.1)\n",
      "Requirement already satisfied: ratelim in c:\\users\\dell\\anaconda3\\lib\\site-packages (from geocoder) (0.1.6)\n",
      "Requirement already satisfied: decorator in c:\\users\\dell\\anaconda3\\lib\\site-packages (from ratelim->geocoder) (5.0.6)\n",
      "Requirement already satisfied: certifi>=2017.4.17 in c:\\users\\dell\\anaconda3\\lib\\site-packages (from requests->geocoder) (2020.12.5)\n",
      "Requirement already satisfied: chardet<5,>=3.0.2 in c:\\users\\dell\\anaconda3\\lib\\site-packages (from requests->geocoder) (4.0.0)\n",
      "Requirement already satisfied: urllib3<1.27,>=1.21.1 in c:\\users\\dell\\anaconda3\\lib\\site-packages (from requests->geocoder) (1.26.4)\n",
      "Requirement already satisfied: idna<3,>=2.5 in c:\\users\\dell\\anaconda3\\lib\\site-packages (from requests->geocoder) (2.10)\n",
      "Note: you may need to restart the kernel to use updated packages.\n"
     ]
    }
   ],
   "source": [
    "pip install geocoder"
   ]
  },
  {
   "cell_type": "code",
   "execution_count": 20,
   "id": "c15a8ad6",
   "metadata": {},
   "outputs": [],
   "source": [
    "def OpenFolder (string = 'Malay'):\n",
    "    file_path = ''\n",
    "    string = string.lower ()\n",
    "    if string == 'malay':\n",
    "        file_path = 'C:\\\\Users\\\\DELL\\\\Desktop\\\\Malay'\n",
    "        os.startfile (file_path)\n",
    "    elif string == 'minor and major project research paper':\n",
    "        file_path = 'C:\\Users\\DELL\\Desktop\\Malay\\research papers for Minor and Major Project'\n",
    "        os.startfile (file_path)\n",
    "    elif "
   ]
  },
  {
   "cell_type": "code",
   "execution_count": 13,
   "id": "8c464e23",
   "metadata": {},
   "outputs": [],
   "source": [
    "def getLocation ():\n",
    "    import geocoder\n",
    "\n",
    "    g = geocoder.ip('me')\n",
    "    return g.latlng"
   ]
  },
  {
   "cell_type": "code",
   "execution_count": 35,
   "id": "8619d23d",
   "metadata": {},
   "outputs": [],
   "source": [
    "def search (query):\n",
    "    string = query.lower ()\n",
    "    if 'maps' in string: \n",
    "        summary = wk.summary ('rourkela', sentences = 2)\n",
    "        speak ('Hey Malay You are now situated in Rourkela')\n",
    "        speak ('I have some facts regarding it, such as')\n",
    "        speak (summary)\n",
    "        location = getLocation ()\n",
    "        getLoc = f'https://www.google.co.in/maps/@{location [0]},{location [1]},15.33z'\n",
    "        wb.open (getLoc)\n",
    "        \n",
    "#         speak (location)\n",
    "        wb.open (getLoc)\n",
    "    if 'google' in string:\n",
    "        wb.open ('google.com')\n",
    "    elif 'yahoo' in string:\n",
    "        wb.open ('yahoo.com')\n",
    "    elif 'youtube' in string:\n",
    "        wb.open ('youtube.com')\n",
    "    elif 'facebook' in string:\n",
    "        wb.open ('facebook.com')\n",
    "    elif 'twitter' in string:\n",
    "        wb.open ('twitter.com')\n",
    "    elif 'instagram' in string:\n",
    "        wb.open ('instagram.com')\n",
    "    elif 'baidu' in string:\n",
    "        wb.open ('baidu.com')\n",
    "    elif 'mail' in string:\n",
    "        wb.open ('https://mail.google.com/mail/u/1/#inbox')\n",
    "        \n",
    "        "
   ]
  },
  {
   "cell_type": "code",
   "execution_count": null,
   "id": "dbbd1de0",
   "metadata": {},
   "outputs": [],
   "source": []
  },
  {
   "cell_type": "code",
   "execution_count": 15,
   "id": "3a97f46d",
   "metadata": {},
   "outputs": [],
   "source": [
    "def time ():\n",
    "    strtf = datetime.datetime.now().strftime ('%H:%M:%S')\n",
    "    speak (f'The time is : {strtf}')"
   ]
  },
  {
   "cell_type": "code",
   "execution_count": 16,
   "id": "7e6dcdee",
   "metadata": {},
   "outputs": [],
   "source": [
    "def takeCommand ():\n",
    "    '''\n",
    "    it takes microphone input\n",
    "    '''\n",
    "    print ('Please wait')\n",
    "    r = sr.Recognizer ()\n",
    "    with sr.Microphone() as source:\n",
    "        print ('ask about anything')\n",
    "        r.pause_threshold = 1\n",
    "    try:\n",
    "        print ('Recognizing')\n",
    "        query = r.recognize_google (audio, language = 'en-in')\n",
    "        print (f'user said: {query}')\n",
    "        query = query.lower()\n",
    "        if 'search' in query:\n",
    "            if 'search' in query: query = query.replace ('search', '')\n",
    "            elif 'open' in query: query = query.replace ('open', '')\n",
    "        elif 'the time' in query: \n",
    "            search (query)\n",
    "        elif 'folder' in query:\n",
    "            lst = string.split ('')\n",
    "            i = lst.index ('folder')\n",
    "            try:\n",
    "                searchString = lst [i - 1]\n",
    "                if ('minor' in searchString) and ('major' in searchString) and \n",
    "                (('researchpaper') or ('research paper') in searchString):\n",
    "                    OpenFolder ('minor and major project research paper')\n",
    "                elif \n",
    "                    \n",
    "            except:\n",
    "#         if query == 'wikipedia':\n",
    "#             results = wk.summary (query, sentences = 2)\n",
    "#             speak ('According to wikipedia')\n",
    "#             speak (results)\n",
    "    except Exception as e:\n",
    "        print (e)\n",
    "        print (\"Say that again please\")\n",
    "        return 'None'\n",
    "    if query == 'pause':\n",
    "        return \n",
    "    speak (query)\n",
    "    return query\n",
    "        "
   ]
  },
  {
   "cell_type": "code",
   "execution_count": 17,
   "id": "daf67ad9",
   "metadata": {},
   "outputs": [],
   "source": [
    "def takeData (string):\n",
    "    results = wk.summary (string, sentences = 5)\n",
    "    speak ('According to wikipedia')\n",
    "    speak (results)"
   ]
  },
  {
   "cell_type": "code",
   "execution_count": 42,
   "id": "b1c119e2",
   "metadata": {},
   "outputs": [
    {
     "name": "stdout",
     "output_type": "stream",
     "text": [
      "Please wait\n",
      "ask about anything\n",
      "Recognizing\n",
      "name 'audio' is not defined\n",
      "Say that again please\n"
     ]
    }
   ],
   "source": [
    "try:\n",
    "    takeCommand ()\n",
    "except:\n",
    "    print ('Something went wrong')"
   ]
  },
  {
   "cell_type": "code",
   "execution_count": null,
   "id": "ee51f4f3",
   "metadata": {},
   "outputs": [],
   "source": [
    "pip install webbrowser"
   ]
  },
  {
   "cell_type": "code",
   "execution_count": null,
   "id": "892ad026",
   "metadata": {},
   "outputs": [],
   "source": []
  }
 ],
 "metadata": {
  "kernelspec": {
   "display_name": "Python 3",
   "language": "python",
   "name": "python3"
  },
  "language_info": {
   "codemirror_mode": {
    "name": "ipython",
    "version": 3
   },
   "file_extension": ".py",
   "mimetype": "text/x-python",
   "name": "python",
   "nbconvert_exporter": "python",
   "pygments_lexer": "ipython3",
   "version": "3.8.8"
  }
 },
 "nbformat": 4,
 "nbformat_minor": 5
}
